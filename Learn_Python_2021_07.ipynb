{
  "nbformat": 4,
  "nbformat_minor": 0,
  "metadata": {
    "colab": {
      "name": "Learn Python 2021-07.ipynb",
      "provenance": [],
      "collapsed_sections": [],
      "include_colab_link": true
    },
    "kernelspec": {
      "name": "python3",
      "display_name": "Python 3"
    }
  },
  "cells": [
    {
      "cell_type": "markdown",
      "metadata": {
        "id": "view-in-github",
        "colab_type": "text"
      },
      "source": [
        "<a href=\"https://colab.research.google.com/github/K-league/EcommerceBackend/blob/main/Learn_Python_2021_07.ipynb\" target=\"_parent\"><img src=\"https://colab.research.google.com/assets/colab-badge.svg\" alt=\"Open In Colab\"/></a>"
      ]
    },
    {
      "cell_type": "markdown",
      "metadata": {
        "id": "2W6KbAGS6ZVn"
      },
      "source": [
        "# Women Who Code Austin 🐍 Learn Python! 🐍 2021/07/12\n",
        "------\n",
        "\n"
      ]
    },
    {
      "cell_type": "markdown",
      "metadata": {
        "id": "LrYM_N_YWsnk"
      },
      "source": [
        "# Python Dictionary\n",
        "\n",
        "Python dictionary is a collection of key-value pairs.\n",
        "```\n",
        "d = {\n",
        "  \"apple\": 3,\n",
        "  \"banana\": 2,\n",
        "  \"coconut\": 5\n",
        "}\n",
        "d[\"grape\"] = 1 # add \"grape\": 1 to the dictionary\n",
        "d.get(\"banana\") # 2\n",
        "```\n",
        "The keys may NOT be ordered (only after python 3.7). There can NOT be duplicated keys.\n",
        "\n",
        "## Why dictionary?\n",
        "A lot of times, data are naturally a key-value way: count of things, items in categories...etc.\n",
        "\n",
        "We can also organize our data as:\n",
        "```\n",
        "[(\"apple\", 3), (\"banana\", 2), (\"coconut\":5)]\n",
        "```\n",
        "But dictionaries are FAST!\n",
        "\n",
        "### Dictionary time complexity\n",
        "https://wiki.python.org/moin/TimeComplexity\n",
        "\n",
        "|Operation | Average Case | Amortized Worst Case|\n",
        "|---|---|---|\n",
        "|k in d   |O(1)   |O(n)   |\n",
        "|get item   |O(1)   |O(n)   |\n",
        "|set item   |O(1)   |O(n)   |\n",
        "|delete item   |O(1)   |O(n)   |\n",
        "|iteration   |O(n)   |O(n)   |\n",
        "\n",
        "## How do dictionaries achieve that?\n",
        "By creating a hash table! This is why dictionary is called HashMap in other languages. This is based on:\n",
        "* To access a specific position in an array is O(1)\n",
        "* Hash function\n",
        "\n",
        "### Hashing\n",
        "Famous hashing algorithms: SHA256, MD5\n",
        "* mapping arbitrary size data to fixed size data\n",
        "* the hashed value is the same for the same input\n",
        "\n",
        "For example, mapping the first letter to the alphabetical order, is hashing!\n",
        "```\n",
        "apple -> 1\n",
        "banana -> 2\n",
        "blackberry -> 2\n",
        "coconut -> 3\n",
        "grape -> 7\n",
        "```\n",
        "\n",
        "## Python dictionary under the hood\n",
        "https://mail.python.org/pipermail/python-dev/2012-December/123028.html\n",
        "```\n",
        "d = [\n",
        "  ['--', '--', '--'],\n",
        "  [1, 'apple', 3],\n",
        "  [2, 'banana', 2],\n",
        "  [3, 'coconut', 5],\n",
        "  ['--', '--', '--'],\n",
        "  ['--', '--', '--'],\n",
        "  ['--', '--', '--'],\n",
        "  [7, 'grape', 1]\n",
        "]\n",
        "```\n",
        "\n",
        "### To insert an item: 10 eggplants.\n",
        "\n",
        "`d[\"eggplant\"] = 10`\n",
        "1. hash the key \"eggplant\". As E is the 5th alphabet, we get 5.\n",
        "2. Put eggplant in the array, at index 5.\n",
        "\n",
        "### To get an item: apples\n",
        "`d.get(\"apple\")`\n",
        "1. hash the key \"apple\". We get 1.\n",
        "2. Get the value in the array index 1.\n",
        "\n",
        "## Hash collision\n",
        "What happen if we want to insert `blackberry`?\n",
        "Since both `banana` and `blackberry` both starts with b, we get the same hash value of `2`.\n",
        "\n",
        "This is called **Hash collision**\n",
        "\n",
        "In this case, we need to pick another spot on the array. There are many ways to do this. We can simply pick the next spot. \n",
        "\n",
        "Now to add an item:\n",
        "1. Hash the key\n",
        "2. Check if the location is occupied\n",
        "3. If it is, pick the next one. Then go back to step 2\n",
        "4. If the location is not occupied, put the value there.\n",
        "\n",
        "To get an item:\n",
        "1. Hash the key\n",
        "2. Check if the key at the location is the same key as the one we want\n",
        "3. If not, check the next spot. Go back to step 2\n",
        "4. If the key matches, return the value\n",
        "\n",
        "So, worst case, if all your keys collide, the add and get will take O(N). But most of the time, it's O(1)\n",
        "\n",
        "### Resize\n",
        "To guarantee \"most of the time\", the dictionary expende the array once the array is 33% full. The Python dicitonary starts with an array of length of 8.\n",
        "\n",
        "\n",
        "\n",
        "\n",
        "\n",
        "\n"
      ]
    },
    {
      "cell_type": "markdown",
      "metadata": {
        "id": "wDnWalgRDu13"
      },
      "source": [
        "# Whiteboarding Demo\n",
        "\n",
        "Whiteboarding is a special skill - being bad at whiteboarding does NOT mean you are not a good programmer. \n",
        "\n",
        "Like other skills, there are tricks to make it easier, and you can practice to improve it!\n",
        "\n",
        "## Whiteboarding process\n",
        "### Prepare to code\n",
        "* Clarify the problem\n",
        "* Work on an example\n",
        "* Write down mental model\n",
        "\n",
        "### Actual Code\n",
        "* Translate pseudo code to Python code\n",
        "\n",
        "### Validate\n",
        "* Test edge cases\n",
        "* Analyze space - time complexity\n",
        "* Optimize\n"
      ]
    },
    {
      "cell_type": "markdown",
      "metadata": {
        "id": "a5TzXYiIGcHV"
      },
      "source": [
        "## Let's go through an example!\n",
        "\n",
        "\n"
      ]
    },
    {
      "cell_type": "markdown",
      "metadata": {
        "id": "boHEUyhDCWxe"
      },
      "source": [
        "\n",
        "#### Ransom Note\n",
        "\n",
        "Given an integer array with even length, where different numbers in this array represent different kinds of candies. Each number means one candy of the corresponding kind. You need to distribute these candies equally in number to brother and sister. Return the maximum number of kinds of candies the sister could gain.\n",
        "\n",
        "Example 1:\n",
        "* Input: ransomeNote = \"a\", magazine = \"b\"\n",
        "* Output: False\n",
        "\n",
        "Example 2:\n",
        "* Input: ransomeNote = \"aa\", magazine = \"ab\"\n",
        "* Output: False\n",
        "\n",
        "Example 3:\n",
        "* Input: ransomeNote = \"aa\", magazine = \"aab\"\n",
        "* Output: True\n",
        "\n",
        "(From https://leetcode.com/problems/ransom-note/)"
      ]
    },
    {
      "cell_type": "markdown",
      "metadata": {
        "id": "zSiGdzzRJpJJ"
      },
      "source": [
        "## Prepare to code - clarify the problem\n",
        "\n",
        "```python\n",
        "def make_ransom_note(ranson_note, magazine):\n",
        "  return False\n",
        "```\n"
      ]
    },
    {
      "cell_type": "markdown",
      "metadata": {
        "id": "23JFd9uVSRsI"
      },
      "source": [
        "# Prepare to code - write down mental model\n",
        "\"aa\", \"aab\"\n",
        "\n",
        "1. Count the letters needed in the ransom note\n",
        "1. Count the letters we have in the magazine\n",
        "1. Make sure the letters in the ransom note is covered by the magazine\n",
        "\n"
      ]
    },
    {
      "cell_type": "markdown",
      "metadata": {
        "id": "j2SLNU_wjbLs"
      },
      "source": [
        "## Translate mental model to code!"
      ]
    },
    {
      "cell_type": "code",
      "metadata": {
        "id": "-B322NcDjeup"
      },
      "source": [
        "def make_ransom_note(input_array):\n",
        "    return False\n"
      ],
      "execution_count": null,
      "outputs": []
    },
    {
      "cell_type": "markdown",
      "metadata": {
        "id": "kDozDlznqJEm"
      },
      "source": [
        "## Verify"
      ]
    },
    {
      "cell_type": "code",
      "metadata": {
        "id": "hLQBwWGTsx7P",
        "colab": {
          "base_uri": "https://localhost:8080/"
        },
        "outputId": "43a5cc39-a31c-42e5-c8f2-70d7fc20ac25"
      },
      "source": [
        "ranson_note = \"give me\"\n",
        "magazine = \"gnomes have ice\"\n",
        "print(make_ransom_note(ranson_note, magazine))"
      ],
      "execution_count": null,
      "outputs": [
        {
          "output_type": "stream",
          "text": [
            "5\n"
          ],
          "name": "stdout"
        }
      ]
    },
    {
      "cell_type": "markdown",
      "metadata": {
        "id": "DAWNMN7effIb"
      },
      "source": [
        "# Complexity analysis\n",
        "\n",
        "If we have an input array with N elements, we loop 1 times. The time complexity is O(N)\n",
        "\n",
        "We only use a set, to store temporary information. The space complexity is O(N)"
      ]
    }
  ]
}